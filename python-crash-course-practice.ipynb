{
 "cells": [
  {
   "cell_type": "markdown",
   "metadata": {},
   "source": [
    "<h1><strong>Python Crash Course</stong></h1>\n",
    "<p>This crash course covers Python basics you'll need for building our CRUD application.</p>\n",
    "<h2><strong>1. Python Basics</strong><h2>\n",
    "<h3><strong>Variables and Data Types</strong></h3>"
   ]
  },
  {
   "cell_type": "code",
   "execution_count": null,
   "metadata": {},
   "outputs": [],
   "source": [
    "# Variables (no need to declare type)\n",
    "name = \"John\"          # String\n",
    "age = 30               # Integer\n",
    "price = 19.99          # Float\n",
    "is_available = True    # Boolean\n",
    "\n",
    "# Multiple assignment\n",
    "x, y, z = 1, 2, 3\n",
    "\n",
    "# Type conversion\n",
    "str_age = str(age)     # Convert to string\n",
    "int_price = int(price) # Convert to integer (truncates decimal)"
   ]
  },
  {
   "cell_type": "markdown",
   "metadata": {},
   "source": [
    "<h3><strong>Strings</strong></h3>"
   ]
  },
  {
   "cell_type": "code",
   "execution_count": null,
   "metadata": {},
   "outputs": [],
   "source": [
    "# String operations\n",
    "first_name = \"John\"\n",
    "last_name = \"Doe\"\n",
    "full_name = first_name + \" \" + last_name  # Concatenation\n",
    "\n",
    "# Formatted strings (f-strings)\n",
    "message = f\"Hello, {full_name}. You are {age} years old.\"\n",
    "\n",
    "# String methods\n",
    "print(full_name.upper())   # Convert to uppercase\n",
    "print(full_name.lower())   # Convert to lowercase\n",
    "print(len(full_name))      # Length of string"
   ]
  },
  {
   "cell_type": "markdown",
   "metadata": {},
   "source": [
    "<h3><strong>Lists</strong></h3>"
   ]
  },
  {
   "cell_type": "code",
   "execution_count": null,
   "metadata": {},
   "outputs": [],
   "source": [
    "# Creating lists\n",
    "fruits = [\"apple\", \"banana\", \"cherry\"]\n",
    "numbers = [1, 2, 3, 4, 5]\n",
    "mixed = [1, \"apple\", True, 3.14]\n",
    "\n",
    "# Accessing elements (0-indexed)\n",
    "first_fruit = fruits[0]    # \"apple\"\n",
    "last_fruit = fruits[-1]    # \"cherry\"\n",
    "\n",
    "# Slicing\n",
    "first_two = fruits[0:2]    # [\"apple\", \"banana\"]\n",
    "\n",
    "# Common list methods\n",
    "fruits.append(\"orange\")    # Add to end\n",
    "fruits.insert(1, \"mango\")  # Insert at index\n",
    "fruits.remove(\"banana\")    # Remove specific item\n",
    "popped = fruits.pop()      # Remove and return last item\n",
    "fruits.sort()              # Sort in place"
   ]
  },
  {
   "cell_type": "markdown",
   "metadata": {},
   "source": [
    "<h3><strong>Dictionaries</strong></h3>"
   ]
  },
  {
   "cell_type": "code",
   "execution_count": null,
   "metadata": {},
   "outputs": [],
   "source": [
    "# Creating dictionaries\n",
    "person = {\n",
    "    \"name\": \"John Doe\",\n",
    "    \"age\": 30,\n",
    "    \"city\": \"New York\"\n",
    "}\n",
    "\n",
    "# Accessing values\n",
    "print(person[\"name\"])\n",
    "print(person.get(\"age\"))   # Safer way to access (returns None if key doesn't exist)\n",
    "\n",
    "# Adding/modifying entries\n",
    "person[\"email\"] = \"john@example.com\"  # Add new key-value pair\n",
    "person[\"age\"] = 31                    # Modify existing value\n",
    "\n",
    "# Dictionary methods\n",
    "keys = person.keys()       # Get all keys\n",
    "values = person.values()   # Get all values\n",
    "items = person.items()     # Get all key-value pairs as tuples"
   ]
  },
  {
   "cell_type": "markdown",
   "metadata": {},
   "source": [
    "<h2><strong>2. Control Flow</strong><h2>\n",
    "<h3><strong>Conditional Statements</strong></h3>"
   ]
  },
  {
   "cell_type": "code",
   "execution_count": null,
   "metadata": {},
   "outputs": [],
   "source": [
    "# If-elif-else\n",
    "age = 20\n",
    "if age < 18:\n",
    "    print(\"Minor\")\n",
    "elif age >= 18 and age < 65:\n",
    "    print(\"Adult\")\n",
    "else:\n",
    "    print(\"Senior\")\n",
    "\n",
    "# Ternary operator\n",
    "status = \"Adult\" if age >= 18 else \"Minor\""
   ]
  },
  {
   "cell_type": "markdown",
   "metadata": {},
   "source": [
    "<h3><strong>Loops</strong></h3>"
   ]
  },
  {
   "cell_type": "code",
   "execution_count": null,
   "metadata": {},
   "outputs": [],
   "source": [
    "# For loop\n",
    "for fruit in fruits:\n",
    "    print(fruit)\n",
    "\n",
    "# Loop with range\n",
    "for i in range(5):         # 0 to 4\n",
    "    print(i)\n",
    "\n",
    "for i in range(1, 6):      # 1 to 5\n",
    "    print(i)\n",
    "\n",
    "# While loop\n",
    "count = 0\n",
    "while count < 5:\n",
    "    print(count)\n",
    "    count += 1"
   ]
  },
  {
   "cell_type": "markdown",
   "metadata": {},
   "source": [
    "<h2><strong>3. Functions</strong><h2>"
   ]
  },
  {
   "cell_type": "code",
   "execution_count": null,
   "metadata": {},
   "outputs": [],
   "source": [
    "# Basic function\n",
    "def greet(name):\n",
    "    return f\"Hello, {name}!\"\n",
    "\n",
    "# Function with default parameter\n",
    "def greet_with_title(name, title=\"Mr.\"):\n",
    "    return f\"Hello, {title} {name}!\"\n",
    "\n",
    "# Function with arbitrary number of arguments\n",
    "def sum_all(*numbers):\n",
    "    return sum(numbers)\n",
    "\n",
    "# Function with keyword arguments\n",
    "def build_profile(**user_info):\n",
    "    return user_info"
   ]
  },
  {
   "cell_type": "markdown",
   "metadata": {},
   "source": [
    "<h2><strong>4. Error Handling</strong><h2>"
   ]
  },
  {
   "cell_type": "code",
   "execution_count": null,
   "metadata": {},
   "outputs": [],
   "source": [
    "# Try-except block\n",
    "try:\n",
    "    result = 10 / 0\n",
    "except ZeroDivisionError:\n",
    "    print(\"Cannot divide by zero!\")\n",
    "except Exception as e:\n",
    "    print(f\"An error occurred: {e}\")\n",
    "finally:\n",
    "    print(\"This runs no matter what\")"
   ]
  },
  {
   "cell_type": "markdown",
   "metadata": {},
   "source": [
    "<h2><strong>5. Working with Files</strong><h2>"
   ]
  },
  {
   "cell_type": "code",
   "execution_count": null,
   "metadata": {},
   "outputs": [],
   "source": [
    "# Reading a file\n",
    "with open(\"file.txt\", \"r\") as file:\n",
    "    content = file.read()\n",
    "\n",
    "# Writing to a file\n",
    "with open(\"new_file.txt\", \"w\") as file:\n",
    "    file.write(\"Hello, world!\")\n",
    "\n",
    "# Appending to a file\n",
    "with open(\"file.txt\", \"a\") as file:\n",
    "    file.write(\"\\nNew line\")"
   ]
  },
  {
   "cell_type": "markdown",
   "metadata": {},
   "source": [
    "<h2><strong>6. Modules and Packages</strong><h2>"
   ]
  },
  {
   "cell_type": "code",
   "execution_count": null,
   "metadata": {},
   "outputs": [],
   "source": [
    "# Importing a module\n",
    "import math\n",
    "print(math.sqrt(16))\n",
    "\n",
    "# Importing specific functions\n",
    "from math import sqrt, pi\n",
    "print(sqrt(16))\n",
    "\n",
    "# Importing with alias\n",
    "import math as m\n",
    "print(m.sqrt(16))"
   ]
  },
  {
   "cell_type": "markdown",
   "metadata": {},
   "source": [
    "<h2><strong>7. Object-Oriented Programming</strong><h2>"
   ]
  },
  {
   "cell_type": "code",
   "execution_count": null,
   "metadata": {},
   "outputs": [],
   "source": [
    "# Creating a class\n",
    "class Person:\n",
    "    # Constructor\n",
    "    def __init__(self, name, age):\n",
    "        self.name = name\n",
    "        self.age = age\n",
    "    \n",
    "    # Method\n",
    "    def greet(self):\n",
    "        return f\"Hello, my name is {self.name}\"\n",
    "\n",
    "# Creating an instance\n",
    "john = Person(\"John\", 30)\n",
    "print(john.greet())\n",
    "\n",
    "# Inheritance\n",
    "class Employee(Person):\n",
    "    def __init__(self, name, age, job_title):\n",
    "        super().__init__(name, age)\n",
    "        self.job_title = job_title\n",
    "    \n",
    "    def introduce(self):\n",
    "        return f\"{self.greet()} and I work as a {self.job_title}\""
   ]
  }
 ],
 "metadata": {
  "kernelspec": {
   "display_name": "Python 3",
   "language": "python",
   "name": "python3"
  },
  "language_info": {
   "codemirror_mode": {
    "name": "ipython",
    "version": 3
   },
   "file_extension": ".py",
   "mimetype": "text/x-python",
   "name": "python",
   "nbconvert_exporter": "python",
   "pygments_lexer": "ipython3",
   "version": "3.12.9"
  }
 },
 "nbformat": 4,
 "nbformat_minor": 2
}
